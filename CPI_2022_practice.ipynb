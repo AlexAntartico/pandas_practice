{
  "nbformat": 4,
  "nbformat_minor": 0,
  "metadata": {
    "colab": {
      "provenance": [],
      "authorship_tag": "ABX9TyPujL1MigRLJxNFlulU811Q",
      "include_colab_link": true
    },
    "kernelspec": {
      "name": "python3",
      "display_name": "Python 3"
    },
    "language_info": {
      "name": "python"
    }
  },
  "cells": [
    {
      "cell_type": "markdown",
      "metadata": {
        "id": "view-in-github",
        "colab_type": "text"
      },
      "source": [
        "<a href=\"https://colab.research.google.com/github/AlexAntartico/pandas_practice1/blob/main/CPI_2022_practice.ipynb\" target=\"_parent\"><img src=\"https://colab.research.google.com/assets/colab-badge.svg\" alt=\"Open In Colab\"/></a>"
      ]
    },
    {
      "cell_type": "code",
      "execution_count": 1,
      "metadata": {
        "id": "BvDp8dJGRV0q"
      },
      "outputs": [],
      "source": [
        "%matplotlib inline\n",
        "import pandas as pd\n",
        "import numpy as np\n",
        "import matplotlib.pyplot as plt\n"
      ]
    },
    {
      "cell_type": "code",
      "source": [
        "# Load excel file with several sheets\n",
        "df = pd.read_excel('cpi2022_globalresultstrends.xlsx', sheet_name=None)"
      ],
      "metadata": {
        "id": "meWQ_EJxR-lB"
      },
      "execution_count": 2,
      "outputs": []
    },
    {
      "cell_type": "code",
      "source": [
        "# check type of df\n",
        "# df.dtypes returns error\n",
        "type(df)"
      ],
      "metadata": {
        "colab": {
          "base_uri": "https://localhost:8080/"
        },
        "id": "6QI6FHjHSM8m",
        "outputId": "1083e8cc-4f9a-4263-b6c6-3d12fb627060"
      },
      "execution_count": 3,
      "outputs": [
        {
          "output_type": "execute_result",
          "data": {
            "text/plain": [
              "dict"
            ]
          },
          "metadata": {},
          "execution_count": 3
        }
      ]
    },
    {
      "cell_type": "code",
      "source": [
        "# while dealinng with several sheets, pandas will save as dict\n",
        "# len() will return  the number of sheets\n",
        "len(df)"
      ],
      "metadata": {
        "colab": {
          "base_uri": "https://localhost:8080/"
        },
        "id": "IgD41a6HST61",
        "outputId": "3f75a768-e6b2-4bd9-a809-bf9eb645a47a"
      },
      "execution_count": 4,
      "outputs": [
        {
          "output_type": "execute_result",
          "data": {
            "text/plain": [
              "3"
            ]
          },
          "metadata": {},
          "execution_count": 4
        }
      ]
    },
    {
      "cell_type": "code",
      "source": [
        "# since a dict is iterable, lets return all items\n",
        "[print(sheet_name) for sheet_name in df.keys()]"
      ],
      "metadata": {
        "colab": {
          "base_uri": "https://localhost:8080/"
        },
        "id": "xam4G6gpSkI4",
        "outputId": "096adfd7-9303-435a-f0e9-f2a1e9de54ad"
      },
      "execution_count": 5,
      "outputs": [
        {
          "output_type": "stream",
          "name": "stdout",
          "text": [
            "CPI 2022 (final)\n",
            "CPI Timeseries 2012 - 2022\n",
            "CPI Stat. Sig. Changes \n"
          ]
        },
        {
          "output_type": "execute_result",
          "data": {
            "text/plain": [
              "[None, None, None]"
            ]
          },
          "metadata": {},
          "execution_count": 5
        }
      ]
    },
    {
      "cell_type": "code",
      "source": [
        "# remember that to print without object line, you need to do a regular loop\n",
        "# list comprehension will print all\n",
        "for sheet_name in df.keys():\n",
        "  print(sheet_name)"
      ],
      "metadata": {
        "colab": {
          "base_uri": "https://localhost:8080/"
        },
        "id": "Lehz3XUjSpSv",
        "outputId": "80747b25-004a-40d2-91d4-33b39e8627e7"
      },
      "execution_count": 6,
      "outputs": [
        {
          "output_type": "stream",
          "name": "stdout",
          "text": [
            "CPI 2022 (final)\n",
            "CPI Timeseries 2012 - 2022\n",
            "CPI Stat. Sig. Changes \n"
          ]
        }
      ]
    },
    {
      "cell_type": "code",
      "source": [
        "# lets trimm from trailing and preceding whitespace the names of the sheets\n",
        "def trim_sheet_names(sheets):\n",
        "    return {key.strip(): value for key, value in sheets.items()}"
      ],
      "metadata": {
        "id": "Soe4yTZ1TPLl"
      },
      "execution_count": 8,
      "outputs": []
    },
    {
      "cell_type": "code",
      "source": [
        "# reassign! do not forget to apply do datafraame\n",
        "df = trim_sheet_names(df)"
      ],
      "metadata": {
        "id": "51vCo1ix3m7-"
      },
      "execution_count": 11,
      "outputs": []
    },
    {
      "cell_type": "code",
      "source": [
        "for sheet_name in df.keys():\n",
        "    print(sheet_name)"
      ],
      "metadata": {
        "colab": {
          "base_uri": "https://localhost:8080/"
        },
        "id": "vVg4ZaFxVY8O",
        "outputId": "6eb3a8fa-a2f7-4aae-b0e0-7f1ac9603c63"
      },
      "execution_count": 12,
      "outputs": [
        {
          "output_type": "stream",
          "name": "stdout",
          "text": [
            "CPI 2022 (final)\n",
            "CPI Timeseries 2012 - 2022\n",
            "CPI Stat. Sig. Changes\n"
          ]
        }
      ]
    },
    {
      "cell_type": "code",
      "source": [
        "# assigning df names to each sheet\n",
        "cpi_2022 = df['CPI 2022 (final)']\n",
        "cpi_timeseries = df['CPI Timeseries 2012 - 2022']\n",
        "cpi_stat = df['CPI Stat. Sig. Changes']  # As strip was applied to key, its now standardized"
      ],
      "metadata": {
        "id": "-5vHQIvbSqMp"
      },
      "execution_count": 13,
      "outputs": []
    },
    {
      "cell_type": "markdown",
      "source": [
        "## What five countries were least corrupt in 2022?"
      ],
      "metadata": {
        "id": "Oy7IQFYd4MWO"
      }
    },
    {
      "cell_type": "code",
      "source": [],
      "metadata": {
        "id": "QBHQJS0Z3wzN"
      },
      "execution_count": null,
      "outputs": []
    },
    {
      "cell_type": "code",
      "source": [],
      "metadata": {
        "id": "JEdpGma1Sqrs"
      },
      "execution_count": null,
      "outputs": []
    }
  ]
}