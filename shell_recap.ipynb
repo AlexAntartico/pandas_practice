{
 "cells": [
  {
   "cell_type": "markdown",
   "id": "fd216525-64ee-4970-929c-64ce28e39d23",
   "metadata": {},
   "source": [
    "# Unix Shell Topics\n",
    "\n",
    "1. What is a shell\n",
    "2. Command vs. Shell\n",
    "3. Diff flavours of Unix commands\n",
    "4. Environment variables $PATH\n",
    "5. `ls`\n",
    "6. `less` and configuring with an env var\n",
    "8. Wildcards and Patterns\n",
    "8. Quoting"
   ]
  },
  {
   "cell_type": "markdown",
   "id": "afde74a6-0fbc-4af4-9553-ce7fa1637b88",
   "metadata": {},
   "source": [
    "## Shell \n",
    "\n",
    "When you rung a program on your computer, you're starting a 'proces'. A process contains:\n",
    "\n",
    "- Inx\n",
    "- mem\n",
    "- registers on the chip\n",
    "\n",
    "Each process on your computer is being 'swapped out' (meaning: the above three things are copied into a safe space in memory) or 'swapped in' (the opposite) millions of times each second. Thats whats really running on your computer\n",
    "\n",
    "How do we (a) start, (b) stop, or (c) monitor these programs? On a modern computer, you would use a GUI.\n",
    "\n",
    "You can also start, stop, and onitor programs using a text interface, the shell.\n",
    "\n",
    "When Unix was invented, there was *only* the shell. Back then, \"the shell\" was the Bourne Shell, it was called sh. A few years later, Berkley invented BSD Unix, including the 'csh'.\n",
    "\n",
    "Each of these was then upgraded a bit: AT&T came out with the Korn Shell (ksh), which was a superset of the Bourne Shell. BSD came out with 'tcsh', a superset of csh.\n",
    "\n",
    "Even though people used different shells interactively, these shells were programming languages that you could write 'scripts'.\n",
    "\n",
    "Then, there were two more 'upgrades' in the shell world:\n",
    "\n",
    "- GNU came up with bash, Bourne-Again Shell. This was a combination of 'tcsh' and 'ksh', giving you the best of both worlds.\n",
    "- Zsh came out at around the same time and was also a superset of 'tcsh' and 'ksh', but had a lots of additional functionality and was smaller.\n",
    "\n",
    "A few years ago, Apple changed the default shell to be 'zsh' instead of 'bash'.\n",
    "\n",
    "If you want to change your default shell, you can use the 'chsh' command. You can also run a shell as a command to try it, rather than switching your login shell."
   ]
  },
  {
   "cell_type": "markdown",
   "id": "e298105e-c729-4a51-b0b7-4fabba9c30a2",
   "metadata": {},
   "source": [
    "## What do shells do?\n",
    "\n",
    "1. when we type commands, they interpret those commands, and either run a new process or do something internal in the shell to help us.\n",
    "2. We can put a bunch of commands into a file, an then run those as shell script."
   ]
  },
  {
   "cell_type": "markdown",
   "id": "a3612ecc-cc73-41a0-8b2e-d41214e976ba",
   "metadata": {},
   "source": [
    "![image](./images/carbon.png)"
   ]
  },
  {
   "attachments": {},
   "cell_type": "markdown",
   "id": "94989d97-5afb-488e-8939-abf4072ab7b5",
   "metadata": {},
   "source": [
    "## Two types of commands\n",
    "\n",
    "When you type a command at the shell, one of two things might happen:\n",
    "\n",
    "- The shell might take that as an \"internal\" command, and do something with it itself.\n",
    "- The shell might see what you typed as an \"external\" command, find a program to run, and launch a new process."
   ]
  },
  {
   "cell_type": "markdown",
   "id": "a0233d31-75e5-4e8c-ab06-d73d7ad45068",
   "metadata": {},
   "source": [
    "## Variables\n",
    "\n",
    "env will return all your current environment variables.\n",
    "\n",
    "The most important is `path` which is a list of directories separated by \":\". When you give the name of a program you want to run, and if it's not a shell builtin command, then the shell looks through the `PATH`, one directory at a time, until it finds the program you've named. The first match gets executed and runs. If no match is found you will probably get a command not found error.\n",
    "\n",
    "This could be useful to stick or execute programs where you might not have security clearance or entitlements. You can potentially add the directory to your $PATH and execute it.\n",
    "\n",
    "Whenever you add a new directory to your `PATH`, each new directory will be added before the previous one (prepend).\n",
    "\n",
    "Some examples of variables are:\n",
    "\n",
    "**PATH**: A list of directories where the system searches for executable files.\n",
    "**HOME**: Your home directory.\n",
    "**USER**: Your username.\n",
    "**LANG**: The language and locale settings.\n"
   ]
  },
  {
   "cell_type": "markdown",
   "id": "306713ad-60ad-45a2-b1d5-1879ad7edebe",
   "metadata": {},
   "source": [
    "### Set env variables\n",
    "\n",
    "To set a var, define as `NAME=value`, all values are considered strings.\n",
    "\n",
    "XYZ=abc\n",
    "\n",
    "This will only be valid or apply for the session, else you can add them to your `.bashrc` file in most linux distros. For Fedora 41 you can define an alias or set a variable following [this here](https://github.com/AlexAntartico/fedora_notes/blob/main/after_installing_actions.md#aliases). Keep in mind there are several bashrc or profile variants where you can achieve this, check out your documentation or ask copilot for the specifics of your distro.\n"
   ]
  },
  {
   "cell_type": "markdown",
   "id": "278f8cfc-b3b9-4c3e-b7a3-bffac6384bfc",
   "metadata": {},
   "source": [
    "### What is EXPORT?\n",
    "\n",
    "When you use export, you're essentially making a variable available to child processes spawned from the current shell. \n",
    "\n",
    "When you set a regular variable in your shell (e.g., MY_VAR=value), it's only available within the current shell session. If you start a new process (like running a command or opening another terminal), that variable won't be accessible. export solves this by making the variable part of the environment inherited by child processes.\n",
    "\n",
    "- Single quotes in linux are taken literally\n",
    "- Double quotes are extrapolated to any variable you have set"
   ]
  },
  {
   "cell_type": "code",
   "execution_count": null,
   "id": "367e718e-792a-42ad-b1be-37a857e31bcd",
   "metadata": {},
   "outputs": [],
   "source": []
  }
 ],
 "metadata": {
  "kernelspec": {
   "display_name": "Python 3 (ipykernel)",
   "language": "python",
   "name": "python3"
  },
  "language_info": {
   "codemirror_mode": {
    "name": "ipython",
    "version": 3
   },
   "file_extension": ".py",
   "mimetype": "text/x-python",
   "name": "python",
   "nbconvert_exporter": "python",
   "pygments_lexer": "ipython3",
   "version": "3.13.0"
  }
 },
 "nbformat": 4,
 "nbformat_minor": 5
}
